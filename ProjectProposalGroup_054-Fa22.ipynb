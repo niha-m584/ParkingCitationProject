{
 "cells": [
  {
   "cell_type": "markdown",
   "metadata": {},
   "source": [
    "# COGS 108 - Final Project Proposal"
   ]
  },
  {
   "cell_type": "markdown",
   "metadata": {},
   "source": [
    "# Names\n",
    "\n",
    "- Sarah Borsotto\n",
    "- Dhathry Doppalapudi\n",
    "- Ann Luong\n",
    "- Marvin Ochoa Estrada\n",
    "- Niha Malhotra"
   ]
  },
  {
   "cell_type": "markdown",
   "metadata": {},
   "source": [
    "# Research Question"
   ]
  },
  {
   "cell_type": "markdown",
   "metadata": {},
   "source": [
    "Is there a correlation between the amount of parking tickets issued in different regions of Los Angeles county and the demographics, such as the socioeconomic status and ethnic makeup, of those regions?"
   ]
  },
  {
   "cell_type": "markdown",
   "metadata": {},
   "source": [
    "## Background and Prior Work"
   ]
  },
  {
   "cell_type": "markdown",
   "metadata": {},
   "source": [
    "California happens to have one of the highest traffic fine rates in the country. Red light fins are as high as \\\\$500, which is over three times the national average[^lccrsf]. California includes several fees in traffic fines which inflates the already expensive prices of these fines. A California resident may see themselves paying \\\\$490 for a \\\\$100 ticket which causes issues for people who can’t afford such prices[^lccrsf]. Given the nature of traffic fines in the state, it’s no surprise the issues these prices can cause on low income communities. \n",
    "\n",
    "In addition, Californian neighborhoods that struggle with poverty, mostly communities of color, are faced with over policing. With the ongoing criminalization of low income neighborhoods, there is a significant amount of police officers present as opposed to communities on the higher end. This facilitates a space where members of these communities are monitored tightly and more likely to receive traffic fines, or even be incarcerated. In the past couple of years, people of color have been stopped by police at a rate three times higher than a white person in California. Homeless people living in their cars are also targets of over policing as they often reside in low income neighborhoods. Parking tickets in turn extend the financial instability faced by homeless people who live in their cars as tickets are unforgivable in California. Tickets stack on one another which results in more fees and payments for people trying to make ends meet.  As a result of these patterns, a space is created that facilitates a steady flow of traffic fines among these communities. There seems to be underlying connections between traffic fines and these communities when both topics are examined closely.\n",
    "\n",
    "There have been numerous other projects and reports that studied over policing and its consequences. A 2020 report by the University of Southern California utilized data from law enforcement agencies and found that people of color across Los Angeles County were stopped by the police at a higher rate than others[^ndsc]. Despite only being 9\\% of the city’s population, Black drivers were the target of 28\\% of Los Angeles police stops in the last half of 2018, according to another study. The issue is not only present in Los Angeles, as even 26\\% of San Francisco’s and 19\\% of San Diego’s police stops during that same time frame were Black drivers, while only 5\\% and 6\\% of those cities’ populations, respectively, are Black[^guardian].\n",
    "\n",
    "Furthermore, an analysis of parking ticket distribution within Los Angeles revealed that a higher number of parking tickets were given in areas where more Black residents, renters, and young adults lived[^brazil]. This suggests that over policing of people of color does not only apply to direct, face-to-face interactions with residents such as traffic stops or arrests. \n",
    "\n",
    "This is important because not only does it mean that lower income neighborhoods are being unfairly targeted, but they are also more unlikely to be able to pay the ticket. A parking ticket might be a nuisance to some, but to those in lower income communities who are already struggling with poverty, it is a huge burden. If they are not able to find the money and pay the fee by a certain date, the burden increases and can eventually result in a criminal offense. This cycle contributes to the criminalization of poverty and is extremely unfair. Particularly since the nationwide racial justice protests following George Floyd’s death in the summer of 2020, California counties have passed multiple police reform measures. However, it is uncertain whether these have actually brought about positive change.\n",
    "\n",
    "[^lccrsf]: \"Paying More for Being Poor: Bias and Disparity in California's Traffic Court System.\" *LCCRSF*, 30 Apr. 2021, https://lccrsf.org/pressroom_posts/paying-poor-bias-disparity-californias-traffic-court-system/\n",
    "[^ndsc]: *NDSC Criminal Justice Data Initiative - Price Center for Social Innovation.* https://socialinnovation.usc.edu/wp-content/uploads/2020/10/Price-Criminal-Justice_Final_October-6-1.pdf\n",
    "[^guardian]: \"Black People in California Are Stopped Far More Often by Police, Major Study Proves.\" *The Guardian*, Guardian News and Media, 3 Jac. 2020, https://www.theguardian.com/us-news/2020/jan/02/california-police-black-stops-force\n",
    "[^brazil]: *The Unequal Spatial Distribution of City Government Fines* https://nbrazil.faculty.ucdavis.edu/wp-content/uploads/sites/481/2018/07/brazil_parking_tickets_uar_2018.pdf"
   ]
  },
  {
   "cell_type": "markdown",
   "metadata": {},
   "source": [
    "# Hypothesis\n"
   ]
  },
  {
   "cell_type": "markdown",
   "metadata": {},
   "source": [
    "We predict that there will be a larger number of parking tickets in lower income and minority communities than in higher income communities. As such, the ticketing rate will decrease as the income level of an area increases. We believe this due to the possible higher rate of police monitoring that occurs in low income communities."
   ]
  },
  {
   "cell_type": "markdown",
   "metadata": {},
   "source": [
    "# Data"
   ]
  },
  {
   "cell_type": "markdown",
   "metadata": {},
   "source": [
    "Overall, we need data that is semi-structured (preferably a csv), comprehensive, and has organizational properties. It needs column headers, an index, and a unique identifier, such as the parking ticket number/code. Every variable should be in a single column and every observation should be in a different row. Tidy data would be beneficial, as it would allow us to combine datasets and have a consistent data structure. This would make it so that fewer tools are learned and data could be analyzed easier.\n",
    "\n",
    "- We would ideally want our dataset to include citation type, locations (zip code), price, date, violation code.\n",
    "- Since we are doing a geospatial data analysis, we would like our dataset to include longitude and latitude.\n",
    "- Median Income data set to identify boundaries of different socioeconomic areas\n",
    "- Type of car as an extra feature to identify what kinds of cars get ticketed the most\n",
    "- Information on police monitoring (crime rate)\n",
    "\n",
    "Using Los Angeles’s Open Data Initiative, started by Mayor Eric Garceti in 2013, we can collect data about every parking ticket in the city of Los Angeles since the beginning of 2015. The data set contains upward 9 million parking tickets.\n",
    "###### Parking tickets - LA Open Data Portal\n",
    "Relevant columns (features) of the dataset include longitude and latitude, street address, issue date, violation, and violation description of each ticket.\n",
    "https://data.lacity.org/Transportation/Parking-Citations/wjz9-h9np/data\n",
    "\n",
    "###### Median income and AMI\n",
    "Stats for median household income, AMI category based on median hh income, and comparing median home income to AMI categories. There are street addresses in this dataset, so we hope to map the addresses here to the ones listed in the LA Open Data parking ticket set. Household income is not listed in the parking ticket dataset so we can use this dataset to find trends in what areas parking tickets are distributed and median household income in those areas.\n",
    "https://geohub.lacity.org/datasets/lacounty::median-income-and-ami-census-tract/explore?location=33.780965%2C-118.302668%2C8.64&showTable=true\n",
    "\n",
    "###### Mapping L.A. \n",
    "Mapping L.A. is the LA Times’ growing resource about the neighborhoods included in Los Angeles County. It provides maps and information about demographics, crime, and schools in 272 neighborhoods across the county. Census tracts, drawn by the U.S. Census Bureau are used for tabulating demographic information, including income and ethnicity. The look at patterns in “geographical, historical, and socioeconomic associations that define communities”. Using the tracts, The LA Times was able to compile a statistical profile of communities. This will be helpful, as we are trying to find whether socioeconomic status and high police monitoring in highly ticketed areas. Zip codes are a nice fit in some places but unworkable in others, such as areas like North Hollywood and Van Nuys that have multiple zip codes. Dozens of zip codes within the city are identified only as Los Angeles. \n",
    "\n",
    "This map follows principles to make it usually and statistically coherent. It gathers every block of the city into compact areas to avoid “enclaves, gaps, overlaps, or ambiguities”.\n",
    "https://maps.latimes.com/about/#the-data\n",
    "\n",
    "Geocoding (using the latitude and longitude coordinates of a street address, which can be used to place markers on a map) the data is a possibility. If we want to explore the spatial aspects of the tickets, we can geocode it to visualize it better. We can create a density plot or heat map to show where the ticket hot zones are.\n",
    "\n"
   ]
  },
  {
   "cell_type": "markdown",
   "metadata": {},
   "source": [
    "# Ethics & Privacy"
   ]
  },
  {
   "cell_type": "markdown",
   "metadata": {},
   "source": [
    "The intention of our project is to identify potential socio-economic biases present in the San Diego police force by investigating the frequency and severity of parking citations within different communities of varying demographics. In doing so, numerous ethical concerns may arise on the logistical scale, as well as on the broader global scale. \n",
    "\n",
    "First off, our categorization of different areas may hold some bias. We will distinguish areas based on their median salaries and then take into account the population present in said area with the intention of illustrating socioeconomic status. Yet, just because a parking ticket was given in that area does not necessarily mean that the person is associated with that area. The person may have parked there for an event or for vacation, meaning that people with higher income levels may be considered low income according to our parameterization. As such, we plan to find a dataset that contains information on the type of car, which may be an indicator of economic status. \n",
    "\n",
    "Another ethical concern may surface during the data collection phase. We will be utilizing data that has information on parking citations in specific locations. Therefore, we need to prevent bias caused by disproportionate geospatial data. If the only data for an area is from the same block (since police may check all of the cars in only a handful of parking lots), we would be wrongly generalizing parking violations for the whole area. In order to take into account the potential imbalances in geospatial data, we will map out the data points according to their longitude and latitude points so that we can pinpoint any clusters of data. These findings should then be factored into our conclusion; we need to confront possible limitations in our analysis.\n",
    "\n",
    "Ethical considerations on the global scale are important to determine as well. Based on the findings of our research, social inequalities in our society may come to light. If more people are given parking violations in lower income neighborhoods, this could be attributed to higher police monitoring because of the criminalization of certain races that have been systematically discriminated against throughout history. Yet, this may not be the case. More tickets may just mean that more people in that area are committing parking violations and that the same amount of monitoring is taking place regardless of the area’s socioeconomic status. We hope to mitigate this issue through our parameterization of ‘crime’. Parking tickets tend to be minor traffic violations that are typically very common. As our background research depicts, parking citations are extremely recurrent throughout San Diego. Not to mention, parking citations are a major issue in our own UCSD campus. In other words, the mild nature of parking tickets and the common need for parking in San Diego suggests that improper parking can occur anywhere. While we cannot fully ensure that this is the case, we anticipate that our parameterization balances the levels of criminality within the areas since we are not addressing crimes that may be provoked from poverty, but rather violations that are feasible by any driver. Additionally, one could also argue that people in lower income communities are more cautious about parking because they may not have the funds to pay for a violation that someone in a higher income area would merely perceive as a small inconvenience. Conclusively, we will need to inspect possible explanations or related variables using a regression analysis."
   ]
  },
  {
   "cell_type": "markdown",
   "metadata": {},
   "source": [
    "# Team Expectations "
   ]
  },
  {
   "cell_type": "markdown",
   "metadata": {},
   "source": [
    "- **Team Expectation 1:** Communicate through text group chat\n",
    "- **Team Expectation 2:** Find times to meet  and have an organized schedule of meeting times to eliminate confusion.\n",
    "- **Team Expectation 3:** If any help is needed, communicate with the group\n",
    "- **Team Expectation 4:** Do your best on your part of the project\n",
    "- **Team Expectation 5:** Be willing to help each other and be flexible about tasks instead of saying “it's not my job”.\n",
    "- **Team Expectation 6:** Get your allocated work done by the deadline set by the group"
   ]
  },
  {
   "cell_type": "markdown",
   "metadata": {},
   "source": [
    "# Project Timeline Proposal"
   ]
  },
  {
   "cell_type": "markdown",
   "metadata": {},
   "source": [
    "Specify your team's specific project timeline. An example timeline has been provided. Changes the dates, times, names, and details to fit your group's plan.\n",
    "\n",
    "If you think you will need any special resources or training outside what we have covered in COGS 108 to solve your problem, then your proposal should state these clearly. For example, if you have selected a problem that involves implementing multiple neural networks, please state this so we can make sure you know what you’re doing and so we can point you to resources you will need to implement your project. Note that you are not required to use outside methods.\n",
    "\n",
    "\n",
    "\n",
    "| Meeting Date  | Meeting Time| Completed Before Meeting  | Discuss at Meeting |\n",
    "|---|---|---|---|\n",
    "| 10/19  |  6:30 PM | Read & Think about COGS 108 expectations; brainstorm topics/questions  | Determine best form of communication; Discuss and decide on final project topic; discuss hypothesis; begin background research | \n",
    "| 10/24  |  Before 11:59 PM |  Project proposal: form research questions, find previous works and background info on topic, find data sets | Revising and submitting project proposal | \n",
    "| 10/30  | 6:30 PM  | Find all of the datasets  | Discuss Wrangling and possible analytical approaches; Assign group members to lead each specific part   |\n",
    "| 11/6  | 6:30 PM  | Clean data | Review any concerns with the data cleaning   |\n",
    "| 11/7  | Before 11:59 PM  | Find, clean, and wrangle data | Submit Checkpoint \\#1: Data |\n",
    "| 11/13  | 6:30 PM  | Research types of analysis that would be applicable to our study | Review/Edit wrangling/EDA;  Discuss analysis plan |\n",
    "| 11/20  | 6:30 PM  | Have 2/3 of the analysis done with descriptions | Discuss/edit Analysis; Discuss distribution of variables, relationship between variables, and any outliers; Complete project check-in |\n",
    "| 11/21  | Before 11:59 PM  | Exploratory data analysis complete, Visualizations and explanations started (do not have to be perfect) | Submit Checkpoint \\#2: EDA |\n",
    "| 11/27  | 6:30 PM  | Ethics and conclusion done, visualizations completed | Finishing touches on project, discuss what to include in final project video |\n",
    "| 12/4  | 6:30 PM  | Script for video and final report completed | Record video |\n",
    "| 12/9  | Before 11:59 PM  | Final touches | Turn in Final Project & Group Project Surveys |"
   ]
  },
  {
   "cell_type": "code",
   "execution_count": null,
   "metadata": {},
   "outputs": [],
   "source": []
  }
 ],
 "metadata": {
  "kernelspec": {
   "display_name": "Python 3",
   "language": "python",
   "name": "python3"
  },
  "language_info": {
   "codemirror_mode": {
    "name": "ipython",
    "version": 3
   },
   "file_extension": ".py",
   "mimetype": "text/x-python",
   "name": "python",
   "nbconvert_exporter": "python",
   "pygments_lexer": "ipython3",
   "version": "3.8.5"
  }
 },
 "nbformat": 4,
 "nbformat_minor": 2
}
